{
 "cells": [
  {
   "cell_type": "code",
   "execution_count": 1,
   "metadata": {},
   "outputs": [],
   "source": [
    "import sqlite3\n",
    "import pandas as pd \n",
    "\n",
    "def create_db(csv_file,table_name, database_name):\n",
    "    \"\"\"\n",
    "    This function takes a CSV file, removes the last two columns\n",
    "    and creates a new table in the SQLite database with the modified data.\n",
    "    \"\"\"\n",
    "    conn=sqlite3.connect(database_name)\n",
    "    df = pd.read_csv(csv_file)\n",
    "    df = df.iloc[:, :-2]\n",
    "    df.to_sql(table_name, conn, if_exists='replace')\n",
    "    conn.close()\n",
    "\n",
    "# Call the function to create a database\n",
    "create_db(\"BankChurners.csv\",\"bankchurner\",\"churndata.db\")"
   ]
  }
 ],
 "metadata": {
  "kernelspec": {
   "display_name": "Python 3",
   "language": "python",
   "name": "python3"
  },
  "language_info": {
   "codemirror_mode": {
    "name": "ipython",
    "version": 3
   },
   "file_extension": ".py",
   "mimetype": "text/x-python",
   "name": "python",
   "nbconvert_exporter": "python",
   "pygments_lexer": "ipython3",
   "version": "3.11.1"
  },
  "orig_nbformat": 4
 },
 "nbformat": 4,
 "nbformat_minor": 2
}
